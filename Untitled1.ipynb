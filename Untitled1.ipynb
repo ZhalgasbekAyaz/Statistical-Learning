{
  "nbformat": 4,
  "nbformat_minor": 0,
  "metadata": {
    "colab": {
      "provenance": [],
      "mount_file_id": "1aTu3is3Hr5NOKMvMl_piaALA8dtNQrkB",
      "authorship_tag": "ABX9TyN0lI35W7Z0zmM62eWHCWOO",
      "include_colab_link": true
    },
    "kernelspec": {
      "name": "python3",
      "display_name": "Python 3"
    },
    "language_info": {
      "name": "python"
    }
  },
  "cells": [
    {
      "cell_type": "markdown",
      "metadata": {
        "id": "view-in-github",
        "colab_type": "text"
      },
      "source": [
        "<a href=\"https://colab.research.google.com/github/ZhalgasbekAyaz/Statistical-Learning/blob/main/Untitled1.ipynb\" target=\"_parent\"><img src=\"https://colab.research.google.com/assets/colab-badge.svg\" alt=\"Open In Colab\"/></a>"
      ]
    },
    {
      "cell_type": "code",
      "execution_count": null,
      "metadata": {
        "id": "NkcF4LQJzOc7"
      },
      "outputs": [],
      "source": [
        "import numpy as np\n",
        "import pandas as pd\n",
        "import seaborn as sns\n",
        "import os"
      ]
    },
    {
      "cell_type": "code",
      "source": [
        "from sklearn.model_selection import train_test_split\n",
        "from sklearn.preprocessing import StandardScaler\n",
        "from sklearn.neighbors import KNeighborsClassifier\n",
        "from sklearn.metrics import confusion_matrix, precision_score, recall_score, f1_score, accuracy_score\n",
        "from sklearn.model_selection import cross_val_score\n",
        "from sklearn.ensemble import RandomForestClassifier"
      ],
      "metadata": {
        "id": "V_UNT1c7zP3h"
      },
      "execution_count": null,
      "outputs": []
    },
    {
      "cell_type": "code",
      "source": [
        "data = pd.read_csv('/content/drive/MyDrive/Masters/Stat learning/diabetes.csv')\n",
        "#data.head()"
      ],
      "metadata": {
        "id": "gJ0pwTO0zSKA"
      },
      "execution_count": null,
      "outputs": []
    },
    {
      "cell_type": "code",
      "source": [
        "X = data.drop('Outcome', axis=1)\n",
        "y = data['Outcome']"
      ],
      "metadata": {
        "id": "ZB_MnnynznyP"
      },
      "execution_count": null,
      "outputs": []
    },
    {
      "cell_type": "code",
      "source": [
        "num_cols = X.dtypes != object\n",
        "num_cols = X.columns[num_cols].to_list()\n",
        "#num_cols"
      ],
      "metadata": {
        "id": "akUVxLjs5G3g"
      },
      "execution_count": null,
      "outputs": []
    },
    {
      "cell_type": "code",
      "source": [
        "X_train, X_test, y_train, y_test = train_test_split(X, y, test_size=0.2, random_state=42)"
      ],
      "metadata": {
        "id": "02VGiLgO0TM3"
      },
      "execution_count": null,
      "outputs": []
    },
    {
      "cell_type": "code",
      "source": [
        "scaler = StandardScaler()\n",
        "X_train_scaled = scaler.fit_transform(X_train)\n",
        "X_test_scaled = scaler.transform(X_test)"
      ],
      "metadata": {
        "id": "Sp7I3hEq3b6z"
      },
      "execution_count": null,
      "outputs": []
    },
    {
      "cell_type": "code",
      "source": [
        "knn1 = KNeighborsClassifier(n_neighbors=3)\n",
        "knn1_fit = knn1.fit(X_train, y_train)\n",
        "knn1_pred = knn1_fit.predict(X_test)"
      ],
      "metadata": {
        "id": "PqUSnk_l02q3"
      },
      "execution_count": null,
      "outputs": []
    },
    {
      "cell_type": "code",
      "source": [
        "def evaluation_metrics(Y_true, pred):\n",
        "    print(\"confusion matrix\")\n",
        "    print(confusion_matrix(Y_true, pred))\n",
        "    print(\"accuracy score: \",accuracy_score(Y_true, pred))\n",
        "    print(\"precision score: \",precision_score(Y_true, pred))\n",
        "    print(\"recall score: \", recall_score(Y_true, pred))\n",
        "    print(\"F1 score: \", f1_score(Y_true, pred))"
      ],
      "metadata": {
        "id": "7HH1zNGh1BuH"
      },
      "execution_count": null,
      "outputs": []
    },
    {
      "cell_type": "code",
      "source": [
        "evaluation_metrics(y_test, knn1_pred)"
      ],
      "metadata": {
        "colab": {
          "base_uri": "https://localhost:8080/"
        },
        "id": "L7IrS4s11IO5",
        "outputId": "e889d8db-906f-41d1-af87-bd46736e4219"
      },
      "execution_count": null,
      "outputs": [
        {
          "output_type": "stream",
          "name": "stdout",
          "text": [
            "confusion matrix\n",
            "[[65 34]\n",
            " [20 35]]\n",
            "accuracy score:  0.6493506493506493\n",
            "precision score:  0.5072463768115942\n",
            "recall score:  0.6363636363636364\n",
            "F1 score:  0.5645161290322581\n"
          ]
        }
      ]
    },
    {
      "cell_type": "code",
      "source": [],
      "metadata": {
        "id": "_ZPBBWqk1RCG"
      },
      "execution_count": null,
      "outputs": []
    },
    {
      "cell_type": "code",
      "source": [
        "accuracy_rate = []\n",
        "\n",
        "for neighbor in range(1,50):\n",
        "    knn = KNeighborsClassifier(n_neighbors=neighbor)\n",
        "    CVScore = cross_val_score(knn, X, y ,cv=15)\n",
        "    accuracy_rate.append(CVScore.mean())"
      ],
      "metadata": {
        "id": "Tw9aghni1SrL"
      },
      "execution_count": null,
      "outputs": []
    },
    {
      "cell_type": "code",
      "source": [
        "import matplotlib.pyplot as plt"
      ],
      "metadata": {
        "id": "ZTQgI-bU1UxH"
      },
      "execution_count": null,
      "outputs": []
    },
    {
      "cell_type": "code",
      "source": [
        "plt.plot(range(1,50), accuracy_rate, marker='o')\n",
        "plt.xlabel(\"Neighbours\")\n",
        "plt.ylabel(\"accuracy\")\n",
        "plt.show()"
      ],
      "metadata": {
        "colab": {
          "base_uri": "https://localhost:8080/",
          "height": 449
        },
        "id": "AJiUmI3I1XOG",
        "outputId": "ea44b355-7e7c-4747-8dfc-af1441258d21"
      },
      "execution_count": null,
      "outputs": [
        {
          "output_type": "display_data",
          "data": {
            "text/plain": [
              "<Figure size 640x480 with 1 Axes>"
            ],
            "image/png": "[encoded data removed]"
          },
          "metadata": {}
        }
      ]
    },
    {
      "cell_type": "code",
      "source": [
        "n = np.argmax(accuracy_rate)\n",
        "n"
      ],
      "metadata": {
        "colab": {
          "base_uri": "https://localhost:8080/"
        },
        "id": "8P76ug1v7v58",
        "outputId": "902c608d-75de-40ab-a820-d857d063ba77"
      },
      "execution_count": null,
      "outputs": [
        {
          "output_type": "execute_result",
          "data": {
            "text/plain": [
              "17"
            ]
          },
          "metadata": {},
          "execution_count": 396
        }
      ]
    },
    {
      "cell_type": "code",
      "source": [
        "knn_best = KNeighborsClassifier(n_neighbors=n)\n",
        "knn_best_fit = knn_best.fit(X_train, y_train)\n",
        "knn_best_pred = knn_best_fit.predict(X_test)\n",
        "evaluation_metrics(y_test, knn_best_pred)"
      ],
      "metadata": {
        "colab": {
          "base_uri": "https://localhost:8080/"
        },
        "id": "29DoU3VN1Ykb",
        "outputId": "e90d6b81-73cc-431f-adc6-de16d6e43f75"
      },
      "execution_count": null,
      "outputs": [
        {
          "output_type": "stream",
          "name": "stdout",
          "text": [
            "confusion matrix\n",
            "[[87 12]\n",
            " [23 32]]\n",
            "accuracy score:  0.7727272727272727\n",
            "precision score:  0.7272727272727273\n",
            "recall score:  0.5818181818181818\n",
            "F1 score:  0.6464646464646464\n"
          ]
        }
      ]
    }
  ]
}